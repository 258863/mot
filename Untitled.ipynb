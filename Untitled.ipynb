{
 "cells": [
  {
   "cell_type": "code",
   "execution_count": null,
   "id": "f4ca73bc-fbb8-4be9-a59a-52b6fc11ea3c",
   "metadata": {},
   "outputs": [],
   "source": [
    "import os\n",
    "\n",
    "# 定义数据集目录\n",
    "base_dir = \"/root/autodl-tmp/data/\"  # 这里替换为你的数据集根目录\n",
    "\n",
    "# 定义子目录\n",
    "sub_dirs = [\"train\", \"val\", \"test\"]\n",
    "\n",
    "# 用于存储文件名的字典\n",
    "file_map = {\n",
    "    \"train\": [],\n",
    "    \"val\": [],\n",
    "    \"test\": []\n",
    "}\n",
    "\n",
    "# 遍历每个子目录\n",
    "for sub_dir in sub_dirs:\n",
    "    dir_path = os.path.join(base_dir, sub_dir)\n",
    "    # 检查目录是否存在\n",
    "    if os.path.exists(dir_path):\n",
    "        print(f\"找到 {sub_dir} 目录: {dir_path}\")\n",
    "        # 获取目录中的所有文件名\n",
    "        for file_name in os.listdir(dir_path):\n",
    "            file_map[sub_dir].append(file_name)\n",
    "    else:\n",
    "        print(f\"未找到 {sub_dir} 目录: {dir_path}\")\n",
    "\n",
    "# 保存到相应的文件\n",
    "for sub_dir in sub_dirs:\n",
    "    output_file = f\"{sub_dir}_seqmap.txt\"\n",
    "    if file_map[sub_dir]:  # 只在有文件名的情况下写入文件\n",
    "        with open(output_file, 'w') as f:\n",
    "            for file_name in file_map[sub_dir]:\n",
    "                f.write(f\"{file_name}\\n\")\n",
    "        print(f\"{output_file} 创建完成，记录数: {len(file_map[sub_dir])}\")\n",
    "    else:\n",
    "        print(f\"{sub_dir} 没有找到文件，未创建 {output_file}\")\n"
   ]
  },
  {
   "cell_type": "code",
   "execution_count": null,
   "id": "50baee00-c4fc-4790-88c5-e26eb8af0a29",
   "metadata": {},
   "outputs": [],
   "source": [
    "%cd /root/autodl-tmp/MOTIP\n",
    "!python -m torch.distributed.run --nproc_per_node=1 main.py --mode train --use-distributed True --use-wandb False --config-path ~/autodl-tmp/MOTIP/configs/r50_deformable_detr_motip_sportsmot.yaml --data-root ~/autodl-tmp/data --outputs-dir /root/autodl-tmp/MOTIP/output "
   ]
  },
  {
   "cell_type": "code",
   "execution_count": null,
   "id": "ff2b7077-eb2f-4c89-a2a1-709527d9dd1d",
   "metadata": {},
   "outputs": [],
   "source": [
    "import os\n",
    "\n",
    "# Define the base directory\n",
    "base_dir = '/root/autodl-tmp/data/SportsMOT/train'\n",
    "\n",
    "# Traverse through all subdirectories in the base directory\n",
    "for dir in os.listdir(base_dir):\n",
    "    gt_file = os.path.join(base_dir, dir, 'gt', 'gt.txt')\n",
    "    if os.path.exists(gt_file):\n",
    "        print(f'Processing {gt_file}')\n",
    "        with open(gt_file, 'r') as file:\n",
    "            lines = file.readlines()\n",
    "\n",
    "        # Modify the last four numbers in each line\n",
    "        for i, line in enumerate(lines):\n",
    "            columns = line.strip().split(',')\n",
    "            if len(columns) >= 10:\n",
    "                columns[-4:] = ['-1', '-1', '-1']\n",
    "                lines[i] = ','.join(columns) + '\\n'\n",
    "\n",
    "        # Write the modified lines back to the file\n",
    "        with open(gt_file, 'w') as file:\n",
    "            file.writelines(lines)\n",
    "        print(f'Modified {gt_file}')"
   ]
  },
  {
   "cell_type": "code",
   "execution_count": null,
   "id": "4d531d8d-5595-4e5f-bc9f-cef9a0dae71d",
   "metadata": {},
   "outputs": [],
   "source": [
    "python -m  main.py --mode submit --use-distributed True --use-wandb False --config-path ./configs/r50_deformable_detr_motip_dancetrack.yaml --data-root ./datasets/ --inference-model ./outputs/r50_deformable_detr_motip_dancetrack.pth --outputs-dir ./outputs/dancetrack_trackers/ --inference-dataset DanceTrack --inference-split test\n",
    " python main.py --mode submit --use-distributed False --use-wandb False --config-path ~/autodl-tmp/MOTIP/configs/r50_deformable_detr_motip_sportsmot.yaml --data-root ~/autodl-tmp/data --outputs-dir /root/autodl-tmp/MOTIP/output/sportTrack  --inference-model ~/autodl-tmp/MOTIP/r50_deformable_detr_coco_sportsmot_trainval.pth --inference-split test"
   ]
  }
 ],
 "metadata": {
  "kernelspec": {
   "display_name": "Python 3 (ipykernel)",
   "language": "python",
   "name": "python3"
  },
  "language_info": {
   "codemirror_mode": {
    "name": "ipython",
    "version": 3
   },
   "file_extension": ".py",
   "mimetype": "text/x-python",
   "name": "python",
   "nbconvert_exporter": "python",
   "pygments_lexer": "ipython3",
   "version": "3.8.10"
  }
 },
 "nbformat": 4,
 "nbformat_minor": 5
}
